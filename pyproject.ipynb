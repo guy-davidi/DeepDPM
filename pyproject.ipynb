{
  "nbformat": 4,
  "nbformat_minor": 0,
  "metadata": {
    "colab": {
      "name": "pyproject.ipynb",
      "provenance": [],
      "collapsed_sections": [],
      "include_colab_link": true
    },
    "kernelspec": {
      "name": "python3",
      "display_name": "Python 3"
    },
    "language_info": {
      "name": "python"
    },
    "accelerator": "GPU",
    "gpuClass": "standard"
  },
  "cells": [
    {
      "cell_type": "markdown",
      "metadata": {
        "id": "view-in-github",
        "colab_type": "text"
      },
      "source": [
        "<a href=\"https://colab.research.google.com/github/tomer-habusha/Deep_Learning_project/blob/DLProject_iss2/pyproject.ipynb\" target=\"_parent\"><img src=\"https://colab.research.google.com/assets/colab-badge.svg\" alt=\"Open In Colab\"/></a>"
      ]
    },
    {
      "cell_type": "code",
      "execution_count": null,
      "metadata": {
        "id": "qkeaYc-kEi0I"
      },
      "outputs": [],
      "source": [
        "#Configure GitAPI\n",
        "username= 'tomer-habusha'\n",
        "repo = 'Deep_Learning_project'\n",
        "branch = 'DLProject_iss2'\n",
        "token = ''\n",
        "\n",
        "!git config --global user.name \"tomer-habusha\"\n",
        "!git config --global user.email \"tomerhabusha@gmail.com\"\n",
        "!git config --global user.passord \"\"\n",
        "\n",
        "#clone specific branch from git repository\n",
        "!git clone -b {branch} https://{token}@github.com/{username}/{repo}"
      ]
    },
    {
      "cell_type": "code",
      "source": [
        "# Install all requirements\n",
        "# according to requirements  torch==1.11.0 ->torchtext==0.12.0 torchvision==0.12.0 torchaudio==0.12.0\n",
        "# but the following versions work properly:\n",
        "!pip install  torch==1.9.0 torchtext==0.10.0 torchvision==0.10.0 torchaudio==0.9.0 \n",
        "\n",
        "!pip install joblib==1.1.0\n",
        "!pip install kmeans_pytorch==0.3\n",
        "!pip install matplotlib==3.5.1\n",
        "!pip install numpy==1.20.3 \n",
        "!pip install Pillow==9.0.1\n",
        "!pip install pytorch_lightning==1.2.10\n",
        "!pip install neptune-client==0.16.1\n",
        "!pip install scikit_learn==1.0.2\n",
        "!pip install scipy==1.7.3\n",
        "!pip install seaborn==0.11.2\n",
        "!pip install tqdm==4.63.0\n",
        "!pip install umap==0.1.1\n",
        "!pip install umap_learn==0.5.2"
      ],
      "metadata": {
        "id": "TJBUklAwRtDf"
      },
      "execution_count": null,
      "outputs": []
    },
    {
      "cell_type": "code",
      "source": [
        "!python /content/Deep_Learning_project/DeepDPM-main/DeepDPM.py --dataset MNIST --dir \"/content/Deep_Learning_project/DeepDPM-main/pretrained_embeddings/umap_embedded_datasets/MNIST\""
      ],
      "metadata": {
        "id": "D3xXTdG5Q_TZ"
      },
      "execution_count": null,
      "outputs": []
    },
    {
      "cell_type": "code",
      "source": [
        "#useful commands\n",
        "#%cd /content/Deep_Learning_project\n",
        "#!git status\n",
        "#!git add --all\n",
        "#!git commit -m \"revert test\"\n",
        "#!git push "
      ],
      "metadata": {
        "id": "WuQLyJI39NxF"
      },
      "execution_count": null,
      "outputs": []
    }
  ]
}