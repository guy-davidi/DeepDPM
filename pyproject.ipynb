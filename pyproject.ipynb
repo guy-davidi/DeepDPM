{
  "nbformat": 4,
  "nbformat_minor": 0,
  "metadata": {
    "colab": {
      "name": "pyproject.ipynb",
      "provenance": [],
      "collapsed_sections": [],
      "machine_shape": "hm",
      "include_colab_link": true
    },
    "kernelspec": {
      "name": "python3",
      "display_name": "Python 3"
    },
    "language_info": {
      "name": "python"
    },
    "accelerator": "GPU",
    "gpuClass": "standard"
  },
  "cells": [
    {
      "cell_type": "markdown",
      "metadata": {
        "id": "view-in-github",
        "colab_type": "text"
      },
      "source": [
        "<a href=\"https://colab.research.google.com/github/tomer-habusha/Deep_Learning_project/blob/main/pyproject.ipynb\" target=\"_parent\"><img src=\"https://colab.research.google.com/assets/colab-badge.svg\" alt=\"Open In Colab\"/></a>"
      ]
    },
    {
      "cell_type": "markdown",
      "source": [
        "# Adapting DeepDPM to streaming data \n",
        "Final project - Deep Learning Course 10/2022"
      ],
      "metadata": {
        "id": "A5K7azJg11ua"
      }
    },
    {
      "cell_type": "markdown",
      "source": [
        "#Configuring GitAPI\n",
        "\n",
        "In this section we clone our repo from git. Our repo consists two main repos:\n",
        "\n",
        "\n",
        "1.   **Deep-Dpm-main:** Source code of the paper: \"DeepDPM: Deep Clustering With an Unknown Number of Clusters\"\n",
        "2.   **dl4-tsc-master:** Source code of tje paper: \"On the Performance of Deep Learning Models for Time Series Classification in Streaming\"\n",
        "\n",
        "As you can see in repo's commits, during working on our project we did changes in the code (for example some models and classes added) in order to support our two research directions:\n",
        "\n",
        "\n",
        "\n",
        "1. **Improving Network Architecture** - especially Subclustering net\n",
        "2. **Adapting to Streaming Data**\n",
        "\n",
        "\n",
        "\n",
        "\n"
      ],
      "metadata": {
        "id": "IFK5tz1H2gfN"
      }
    },
    {
      "cell_type": "code",
      "execution_count": null,
      "metadata": {
        "id": "qkeaYc-kEi0I"
      },
      "outputs": [],
      "source": [
        "username= 'guy-davidi'\n",
        "repo = 'Deep_Learning_project'\n",
        "branch = 'main'\n",
        "token = ''\n",
        "\n",
        "!git config --global user.name \"tomer-habusha\"\n",
        "!git config --global user.email \"tomerhabusha@gmail.com\"\n",
        "!git config --global user.password \"\"\n",
        "\n",
        "#clone specific branch from git repository\n",
        "!git clone -b {branch} https://{token}@github.com/{username}/{repo}"
      ]
    },
    {
      "cell_type": "markdown",
      "source": [
        " # Requirements installation"
      ],
      "metadata": {
        "id": "NFziQY7N4Num"
      }
    },
    {
      "cell_type": "code",
      "source": [
        "# according to requirements  torch==1.11.0 ->torchtext==0.12.0 torchvision==0.12.0 torchaudio==0.12.0\n",
        "# but the following versions work properly:\n",
        "!pip install  torch==1.9.0 torchtext==0.10.0 torchvision==0.10.0 torchaudio==0.9.0 \n",
        "\n",
        "!pip install joblib==1.1.0\n",
        "!pip install kmeans_pytorch==0.3\n",
        "!pip install matplotlib==3.5.1\n",
        "!pip install numpy==1.20.3 \n",
        "!pip install Pillow==9.0.1\n",
        "!pip install pytorch_lightning==1.2.10\n",
        "!pip install neptune-client==0.16.1\n",
        "!pip install scikit_learn==1.0.2\n",
        "!pip install scipy==1.7.3\n",
        "!pip install seaborn==0.11.2\n",
        "!pip install tqdm==4.63.0\n",
        "!pip install umap==0.1.1\n",
        "!pip install umap_learn==0.5.2"
      ],
      "metadata": {
        "id": "TJBUklAwRtDf"
      },
      "execution_count": null,
      "outputs": []
    },
    {
      "cell_type": "markdown",
      "source": [
        "# Sanity check runnings for \"DeepDPM\" and \"dl4-tsc\" repos\n",
        "\n"
      ],
      "metadata": {
        "id": "L5V7bf3h5d_z"
      }
    },
    {
      "cell_type": "code",
      "source": [
        "# Generating a similar gif to the one presented at DeepDPM repo's readme\n",
        "!python /content/Deep_Learning_project/DeepDPM-main/DeepDPM.py --dataset synthetic --log_emb every_n_epochs --log_emb_every 1"
      ],
      "metadata": {
        "id": "DySH5JvMVNVt"
      },
      "execution_count": null,
      "outputs": []
    },
    {
      "cell_type": "code",
      "source": [
        "# Running DeepDPM on pretrained embeddings (including custom ones):\n",
        "!python /content/Deep_Learning_project/DeepDPM-main/DeepDPM.py --dataset MNIST --dir \"/content/Deep_Learning_project/DeepDPM-main/pretrained_embeddings/umap_embedded_datasets/MNIST\" --gpus 0 --max_epochs 600 --use_labels_for_eval "
      ],
      "metadata": {
        "id": "D3xXTdG5Q_TZ"
      },
      "execution_count": null,
      "outputs": []
    },
    {
      "cell_type": "code",
      "source": [
        "# Running dl-4-tsc-master on time series dataset \n",
        "!python /content/Deep_Learning_project/dl-4-tsc-master/main.py 'UCRArchive_2018' 'MedicalImages' mlp _itr_1"
      ],
      "metadata": {
        "id": "AsE8tjzTQQY-"
      },
      "execution_count": null,
      "outputs": []
    },
    {
      "cell_type": "markdown",
      "source": [
        "# Running DeepDPM alternation on 1-dimensional time series dataset\n",
        "\n",
        "We use two datasets in the project:\n",
        "\n",
        "1. **MedicalImages** \n",
        "2. **MelbournePedestrian**\n",
        "\n",
        "You can find the results in the file \"results\".\n",
        "\n",
        "In case you want to run with two hidden layers in the subclustering net:\n",
        "\"Deep_Learning_project/DeepDPM-main/src/clustering_models/clusternet_modules/models/Classifiers_TwoHiddenLayers.py\" - replace file name to \"classifiers\". As you can read in our paper, we found that this change came with no improvment in results, so we didnt combine it to the entire code "
      ],
      "metadata": {
        "id": "b2oYl7OO8byD"
      }
    },
    {
      "cell_type": "code",
      "source": [
        "# Running DeepDPM_alternations with TimeseriesDataset - MedicalImages\n",
        "!python /content/Deep_Learning_project/DeepDPM-main/DeepDPM_alternations.py --dataset MedicalImages --latent_dim 5 --lambda_ 0.5 --beta 0.001 --lr 0.01 --init_k 1 --train_cluster_net 300 --number_of_ae_alternations 2 --alternate --init_cluster_net_using_centers --reinit_net_at_alternation --dir \"/content/Deep_Learning_project/dl-4-tsc-master/archives/UCRArchive_2018/MedicalImages\" --log_metrics_at_train True --gpus 0  --use_labels_for_eval --archive_name 'UCRArchive_2018' --pretrain_path 'None' \n"
      ],
      "metadata": {
        "id": "QMLN7CKmmC5H"
      },
      "execution_count": null,
      "outputs": []
    },
    {
      "cell_type": "code",
      "source": [
        "# Running DeepDPM_alternations with TimeseriesDataset - MelbournePedestrian\n",
        "!python /content/Deep_Learning_project/DeepDPM-main/DeepDPM_alternations.py --dataset MelbournePedestrian --latent_dim 12 --lambda_ 0.5 --beta 0.0008 --lr 0.008 --init_k 1 --train_cluster_net 250 --number_of_ae_alternations 3 --alternate --init_cluster_net_using_centers --reinit_net_at_alternation --dir \"/content/Deep_Learning_project/dl-4-tsc-master/archives/UCRArchive_2018/MelbournePedestrian\" --log_metrics_at_train True --gpus 0  --use_labels_for_eval --archive_name 'UCRArchive_2018' --pretrain_path 'None' \n"
      ],
      "metadata": {
        "id": "CaUIN6yDUDDf"
      },
      "execution_count": null,
      "outputs": []
    }
  ]
}