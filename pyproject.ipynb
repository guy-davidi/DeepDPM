{
  "nbformat": 4,
  "nbformat_minor": 0,
  "metadata": {
    "colab": {
      "name": "pyproject.ipynb",
      "provenance": [],
      "collapsed_sections": [],
      "machine_shape": "hm",
      "include_colab_link": true
    },
    "kernelspec": {
      "name": "python3",
      "display_name": "Python 3"
    },
    "language_info": {
      "name": "python"
    },
    "accelerator": "GPU",
    "gpuClass": "standard"
  },
  "cells": [
    {
      "cell_type": "markdown",
      "metadata": {
        "id": "view-in-github",
        "colab_type": "text"
      },
      "source": [
        "<a href=\"https://colab.research.google.com/github/tomer-habusha/Deep_Learning_project/blob/main/pyproject.ipynb\" target=\"_parent\"><img src=\"https://colab.research.google.com/assets/colab-badge.svg\" alt=\"Open In Colab\"/></a>"
      ]
    },
    {
      "cell_type": "code",
      "execution_count": null,
      "metadata": {
        "id": "qkeaYc-kEi0I"
      },
      "outputs": [],
      "source": [
        "#Configure GitAPI\n",
        "username= 'tomer-habusha'\n",
        "repo = 'Deep_Learning_project'\n",
        "branch = 'main'\n",
        "token = ''\n",
        "\n",
        "!git config --global user.name \"tomer-habusha\"\n",
        "!git config --global user.email \"tomerhabusha@gmail.com\"\n",
        "!git config --global user.passord \"\"\n",
        "\n",
        "#clone specific branch from git repository\n",
        "!git clone -b {branch} https://{token}@github.com/{username}/{repo}"
      ]
    },
    {
      "cell_type": "code",
      "source": [
        "# Install all requirements\n",
        "# according to requirements  torch==1.11.0 ->torchtext==0.12.0 torchvision==0.12.0 torchaudio==0.12.0\n",
        "# but the following versions work properly:\n",
        "!pip install  torch==1.9.0 torchtext==0.10.0 torchvision==0.10.0 torchaudio==0.9.0 \n",
        "\n",
        "!pip install joblib==1.1.0\n",
        "!pip install kmeans_pytorch==0.3\n",
        "!pip install matplotlib==3.5.1\n",
        "!pip install numpy==1.20.3 \n",
        "!pip install Pillow==9.0.1\n",
        "!pip install pytorch_lightning==1.2.10\n",
        "!pip install neptune-client==0.16.1\n",
        "!pip install scikit_learn==1.0.2\n",
        "!pip install scipy==1.7.3\n",
        "!pip install seaborn==0.11.2\n",
        "!pip install tqdm==4.63.0\n",
        "!pip install umap==0.1.1\n",
        "!pip install umap_learn==0.5.2"
      ],
      "metadata": {
        "id": "TJBUklAwRtDf"
      },
      "execution_count": null,
      "outputs": []
    },
    {
      "cell_type": "code",
      "source": [
        "#To generate a similar gif to the one presented above\n",
        "!python /content/Deep_Learning_project/DeepDPM-main/DeepDPM.py --dataset synthetic --log_emb every_n_epochs --log_emb_every 1"
      ],
      "metadata": {
        "id": "DySH5JvMVNVt"
      },
      "execution_count": null,
      "outputs": []
    },
    {
      "cell_type": "code",
      "source": [
        "#To run DeepDPM on pretrained embeddings (including custom ones):\n",
        "!python /content/Deep_Learning_project/DeepDPM-main/DeepDPM.py --dataset MNIST --dir \"/content/Deep_Learning_project/DeepDPM-main/pretrained_embeddings/umap_embedded_datasets/MNIST\" --gpus 0 --max_epochs 600 --use_labels_for_eval "
      ],
      "metadata": {
        "id": "D3xXTdG5Q_TZ"
      },
      "execution_count": null,
      "outputs": []
    },
    {
      "cell_type": "code",
      "source": [
        "# To run dl-4-tsc-master on time series dataset \n",
        "!python /content/Deep_Learning_project/dl-4-tsc-master/main.py 'UCRArchive_2018' 'MedicalImages' mlp _itr_1"
      ],
      "metadata": {
        "id": "AsE8tjzTQQY-"
      },
      "execution_count": null,
      "outputs": []
    },
    {
      "cell_type": "code",
      "source": [
        "# Using DeepDpm and dl-4-tsc\n",
        "!python /content/Deep_Learning_project/DeepDPM-main/DeepDPM.py --dataset MedicalImages --dir \"/content/Deep_Learning_project/dl-4-tsc-master/archives/UCRArchive_2018/MedicalImages\" --gpus 0 --max_epochs 600 --use_labels_for_eval --archive_name 'UCRArchive_2018' --lr 0.8 --cluster_lr 0.8 --subcluster_lr 0.8 --batch-size 10"
      ],
      "metadata": {
        "id": "VxWdyV_lq3YL"
      },
      "execution_count": null,
      "outputs": []
    },
    {
      "cell_type": "code",
      "source": [
        "#Using DeepDPM_alternations with TimeseriesDataset - MedicalImages\n",
        "!python /content/Deep_Learning_project/DeepDPM-main/DeepDPM_alternations.py --latent_dim 5 --lambda_ 0.5 --beta 0.001 --lr 0.01 --dataset MedicalImages --init_k 1 --train_cluster_net 350 --number_of_ae_alternations 2 --alternate --init_cluster_net_using_centers --reinit_net_at_alternation --dir \"/content/Deep_Learning_project/dl-4-tsc-master/archives/UCRArchive_2018/MedicalImages\" --log_metrics_at_train True --gpus 0  --use_labels_for_eval --archive_name 'UCRArchive_2018' --pretrain_path 'None' \n"
      ],
      "metadata": {
        "id": "QMLN7CKmmC5H"
      },
      "execution_count": null,
      "outputs": []
    },
    {
      "cell_type": "code",
      "source": [
        "#Using DeepDPM_alternations with TimeseriesDataset - MelbournePedestrian\n",
        "!python /content/Deep_Learning_project/DeepDPM-main/DeepDPM_alternations.py --latent_dim 5 --lambda_ 0.5 --beta 0.001 --lr 0.01 --dataset MelbournePedestrian --init_k 1 --train_cluster_net 350 --number_of_ae_alternations 3 --alternate --init_cluster_net_using_centers --reinit_net_at_alternation --dir \"/content/Deep_Learning_project/dl-4-tsc-master/archives/UCRArchive_2018/MelbournePedestrian\" --log_metrics_at_train True --gpus 0  --use_labels_for_eval --archive_name 'UCRArchive_2018' --pretrain_path 'None' \n"
      ],
      "metadata": {
        "id": "CaUIN6yDUDDf"
      },
      "execution_count": null,
      "outputs": []
    },
    {
      "cell_type": "code",
      "source": [
        "#useful commands\n",
        "#%cd /content/Deep_Learning_project\n",
        "#!git status\n",
        "#!git add DeepDPM-main/DeepDPM_alternations.py\n",
        "#!git commit -m \"DeepDPM_alternations first edit for Time series input \"\n",
        "#!git pull\n",
        "#!git push https://{token}@github.com/{username}/{repo}"
      ],
      "metadata": {
        "id": "WuQLyJI39NxF"
      },
      "execution_count": null,
      "outputs": []
    }
  ]
}